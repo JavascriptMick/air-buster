{
 "cells": [
  {
   "cell_type": "code",
   "execution_count": null,
   "metadata": {
    "collapsed": true
   },
   "outputs": [],
   "source": []
  },
  {
   "cell_type": "code",
   "execution_count": null,
   "metadata": {
    "collapsed": true
   },
   "outputs": [],
   "source": [
    "# load up data\n",
    "df = pd.read_csv('path/to/file.csv', index_col='someSensibleId')\n",
    "\n",
    "# save back data\n",
    "df.to_csv('path_to_output_csv')\n",
    "\n",
    "# drop empty fields (thresh has something to do with how many are na)\n",
    "df.dropna(thresh=2, inplace=True)\n",
    "\n",
    "# drop fields you don't want\n",
    "df.drop(['field', 'field2'], axis=1, inplace=True)\n",
    "\n",
    "# fill empty fields with 0 (you can do it with means to)\n",
    "df.fillna(value=0, inplace=True)\n",
    "\n",
    "# Create an 'ispos' field for a list of numeric fields.. the lambda can be used for all sorts of things like char flags  to 1's etc..\n",
    "col_list = ['num_col_1', 'another_numeric_col_name']\n",
    "for field in col_list:\n",
    "    df[field + '_ispos'] = df[field].map(lambda theValue: 1 if theValue >= 0 else 0)\n",
    "\n",
    "# scale with min max scaler\n",
    "from sklearn.preprocessing import MinMaxScaler, StandardScaler\n",
    "scaler = MinMaxScaler()\n",
    "df[col_list] = scaler.fit_transform(df[col_list])\n",
    "\n",
    "# Convert categorical variable into dummy/indicator variables\n",
    "indicator_df = pd.get_dummies(df['CategoricalField'], columns=['CategoricalField'])\n",
    "\n",
    "# stick/zip multiple dataframes together (function should be called zip imho)\n",
    "zipped_df = pd.concat([df, df_or_series], axis=1)   # axis=1 means along columns (yea duh but default is strangely 0 i.e. index)\n",
    "\n",
    "# simple concat field\n",
    "df['full_name'] = df['first_name'] + df['last_name']\n",
    "\n",
    "# make a summary (group by index and do max of each field)\n",
    "summary_df = df.groupby(by=df.index).max()     # .sum() also works\n",
    "\n",
    "# join on index\n",
    "join_df = left_df.join(right_df)\n",
    "\n",
    "# pull out a list of column names excluding the first column\n",
    "field_name_list = list(df.columns.values)[1:]\n",
    "\n",
    "# multiply each field in a list of field names by another field\n",
    "for field in field_name_list:\n",
    "    df[field] = df[field] * df['some_other_field']   # divide (/) also works\n",
    "\n",
    "# count how many items match a condition\n",
    "count = len(df[df['some_field']==42])\n",
    "\n",
    "# plotting\n",
    "import matplotlib.pyplot as plt\n",
    "\n",
    "# histogram plot\n",
    "plt.hist(df.ANumericValue, bins=50, label='label for a numeric value');\n",
    "plt.hist(df.AnotherNum, bins=50, label='blah')\n",
    "plt.title('a great title')\n",
    "plt.yscale('log') # good for big numbers and big ranges\n",
    "plt.legend()\n",
    "\n",
    "# seaborn count plot with % value and actual value annotated onto the bars\n",
    "a_plot = sns.countplot(x='bar_height_field_thing_you_want_to_show', data=df, hue='categorical_field_or_flag_that_splits_bars_into_clusters_of_bars_with_diff_colour')\n",
    "a_plot.set_title('My awesome plot')\n",
    "for p in a_plot.patches:\n",
    "    a_plot.annotate('{:.1f}% ({:.0f})'.format(100 * p.get_height()/len(df), p.get_height()), (p.get_x()+0.0, p.get_height()+1))\n"
   ]
  },
  {
   "cell_type": "code",
   "execution_count": null,
   "metadata": {
    "collapsed": true
   },
   "outputs": [],
   "source": [
    "def trainAndTestSVM(X, y, predictCol):\n",
    "    X_train, X_test, y_train, y_test = train_test_split(X, y, test_size=0.25, random_state=69)\n",
    "\n",
    "    # get a model\n",
    "    clf = svm.SVC()\n",
    "    # fit with training data\n",
    "    clf.fit(X_train, y_train)\n",
    "    \n",
    "    # print the test error\n",
    "    predictions = clf.predict(X_test)\n",
    "    getError(predictions, y_test, predictCol)\n",
    "    \n",
    "    # print the training error\n",
    "    trainPrediction = clf.predict(X_train)\n",
    "    getError(trainPrediction, y_train, predictCol)"
   ]
  }
 ],
 "metadata": {
  "kernelspec": {
   "display_name": "Python 3",
   "language": "python",
   "name": "python3"
  },
  "language_info": {
   "codemirror_mode": {
    "name": "ipython",
    "version": 3
   },
   "file_extension": ".py",
   "mimetype": "text/x-python",
   "name": "python",
   "nbconvert_exporter": "python",
   "pygments_lexer": "ipython3",
   "version": "3.5.3"
  }
 },
 "nbformat": 4,
 "nbformat_minor": 2
}
