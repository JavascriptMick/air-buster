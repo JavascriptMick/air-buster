{
 "cells": [
  {
   "cell_type": "markdown",
   "metadata": {},
   "source": [
    "# Attempting to Correlate Historical Air Quality Index with BOM Weather data"
   ]
  },
  {
   "cell_type": "markdown",
   "metadata": {},
   "source": [
    "## Data Prep and Exploration"
   ]
  },
  {
   "cell_type": "code",
   "execution_count": 183,
   "metadata": {},
   "outputs": [],
   "source": [
    "import pandas as pd\n",
    "import matplotlib.pyplot as plt\n",
    "import seaborn as sns\n",
    "sns.set_style('whitegrid')\n",
    "%matplotlib inline"
   ]
  },
  {
   "cell_type": "code",
   "execution_count": 184,
   "metadata": {},
   "outputs": [
    {
     "data": {
      "text/html": [
       "<div>\n",
       "<style>\n",
       "    .dataframe thead tr:only-child th {\n",
       "        text-align: right;\n",
       "    }\n",
       "\n",
       "    .dataframe thead th {\n",
       "        text-align: left;\n",
       "    }\n",
       "\n",
       "    .dataframe tbody tr th {\n",
       "        vertical-align: top;\n",
       "    }\n",
       "</style>\n",
       "<table border=\"1\" class=\"dataframe\">\n",
       "  <thead>\n",
       "    <tr style=\"text-align: right;\">\n",
       "      <th></th>\n",
       "      <th>Product code</th>\n",
       "      <th>Bureau of Meteorology station number</th>\n",
       "      <th>Date</th>\n",
       "      <th>Rainfall amount (millimetres)</th>\n",
       "      <th>Period over which rainfall was measured (days)</th>\n",
       "      <th>Quality</th>\n",
       "      <th>Minimum temperature (Degree C)</th>\n",
       "      <th>Days of accumulation of minimum temperature</th>\n",
       "      <th>Quality Min</th>\n",
       "      <th>Maximum temperature (Degree C)</th>\n",
       "      <th>Days of accumulation of maximum temperature</th>\n",
       "      <th>Quality Max</th>\n",
       "      <th>Randwick_AQI</th>\n",
       "    </tr>\n",
       "  </thead>\n",
       "  <tbody>\n",
       "    <tr>\n",
       "      <th>0</th>\n",
       "      <td>IDCJAC0009</td>\n",
       "      <td>66037</td>\n",
       "      <td>29/07/2016</td>\n",
       "      <td>0.0</td>\n",
       "      <td>NaN</td>\n",
       "      <td>Y</td>\n",
       "      <td>18.6</td>\n",
       "      <td>1</td>\n",
       "      <td>N</td>\n",
       "      <td>26.5</td>\n",
       "      <td>1</td>\n",
       "      <td>N</td>\n",
       "      <td>21.0</td>\n",
       "    </tr>\n",
       "    <tr>\n",
       "      <th>1</th>\n",
       "      <td>IDCJAC0009</td>\n",
       "      <td>66037</td>\n",
       "      <td>30/07/2016</td>\n",
       "      <td>0.0</td>\n",
       "      <td>NaN</td>\n",
       "      <td>Y</td>\n",
       "      <td>18.6</td>\n",
       "      <td>1</td>\n",
       "      <td>N</td>\n",
       "      <td>26.5</td>\n",
       "      <td>1</td>\n",
       "      <td>N</td>\n",
       "      <td>35.0</td>\n",
       "    </tr>\n",
       "    <tr>\n",
       "      <th>2</th>\n",
       "      <td>IDCJAC0009</td>\n",
       "      <td>66037</td>\n",
       "      <td>31/07/2016</td>\n",
       "      <td>0.0</td>\n",
       "      <td>NaN</td>\n",
       "      <td>Y</td>\n",
       "      <td>18.6</td>\n",
       "      <td>1</td>\n",
       "      <td>N</td>\n",
       "      <td>26.5</td>\n",
       "      <td>1</td>\n",
       "      <td>N</td>\n",
       "      <td>31.0</td>\n",
       "    </tr>\n",
       "    <tr>\n",
       "      <th>3</th>\n",
       "      <td>IDCJAC0009</td>\n",
       "      <td>66037</td>\n",
       "      <td>1/08/2016</td>\n",
       "      <td>0.0</td>\n",
       "      <td>NaN</td>\n",
       "      <td>Y</td>\n",
       "      <td>18.6</td>\n",
       "      <td>1</td>\n",
       "      <td>N</td>\n",
       "      <td>26.5</td>\n",
       "      <td>1</td>\n",
       "      <td>N</td>\n",
       "      <td>44.0</td>\n",
       "    </tr>\n",
       "    <tr>\n",
       "      <th>4</th>\n",
       "      <td>IDCJAC0009</td>\n",
       "      <td>66037</td>\n",
       "      <td>2/08/2016</td>\n",
       "      <td>1.0</td>\n",
       "      <td>1.0</td>\n",
       "      <td>Y</td>\n",
       "      <td>18.6</td>\n",
       "      <td>1</td>\n",
       "      <td>N</td>\n",
       "      <td>26.5</td>\n",
       "      <td>1</td>\n",
       "      <td>N</td>\n",
       "      <td>43.0</td>\n",
       "    </tr>\n",
       "  </tbody>\n",
       "</table>\n",
       "</div>"
      ],
      "text/plain": [
       "  Product code  Bureau of Meteorology station number        Date  \\\n",
       "0   IDCJAC0009                                 66037  29/07/2016   \n",
       "1   IDCJAC0009                                 66037  30/07/2016   \n",
       "2   IDCJAC0009                                 66037  31/07/2016   \n",
       "3   IDCJAC0009                                 66037   1/08/2016   \n",
       "4   IDCJAC0009                                 66037   2/08/2016   \n",
       "\n",
       "   Rainfall amount (millimetres)  \\\n",
       "0                            0.0   \n",
       "1                            0.0   \n",
       "2                            0.0   \n",
       "3                            0.0   \n",
       "4                            1.0   \n",
       "\n",
       "   Period over which rainfall was measured (days) Quality  \\\n",
       "0                                             NaN       Y   \n",
       "1                                             NaN       Y   \n",
       "2                                             NaN       Y   \n",
       "3                                             NaN       Y   \n",
       "4                                             1.0       Y   \n",
       "\n",
       "   Minimum temperature (Degree C)  \\\n",
       "0                            18.6   \n",
       "1                            18.6   \n",
       "2                            18.6   \n",
       "3                            18.6   \n",
       "4                            18.6   \n",
       "\n",
       "   Days of accumulation of minimum temperature Quality Min  \\\n",
       "0                                            1           N   \n",
       "1                                            1           N   \n",
       "2                                            1           N   \n",
       "3                                            1           N   \n",
       "4                                            1           N   \n",
       "\n",
       "   Maximum temperature (Degree C)  \\\n",
       "0                            26.5   \n",
       "1                            26.5   \n",
       "2                            26.5   \n",
       "3                            26.5   \n",
       "4                            26.5   \n",
       "\n",
       "   Days of accumulation of maximum temperature Quality Max  Randwick_AQI  \n",
       "0                                            1           N          21.0  \n",
       "1                                            1           N          35.0  \n",
       "2                                            1           N          31.0  \n",
       "3                                            1           N          44.0  \n",
       "4                                            1           N          43.0  "
      ]
     },
     "execution_count": 184,
     "metadata": {},
     "output_type": "execute_result"
    }
   ],
   "source": [
    "aqi = pd.read_csv('../data/AQI_Correlate_final_v2.csv')\n",
    "aqi.head(5)"
   ]
  },
  {
   "cell_type": "markdown",
   "metadata": {},
   "source": [
    "### clean up"
   ]
  },
  {
   "cell_type": "code",
   "execution_count": 185,
   "metadata": {},
   "outputs": [
    {
     "name": "stdout",
     "output_type": "stream",
     "text": [
      "N N\n"
     ]
    }
   ],
   "source": [
    "print(max(aqi['Quality Min']), min(aqi['Quality Min']))"
   ]
  },
  {
   "cell_type": "code",
   "execution_count": 186,
   "metadata": {},
   "outputs": [],
   "source": [
    "# n/a in the measurements of precipitation in particular is not good data as we expect precipitation to be important.. drop it\n",
    "aqi = aqi.dropna()"
   ]
  },
  {
   "cell_type": "code",
   "execution_count": 187,
   "metadata": {},
   "outputs": [],
   "source": [
    "# quality scores and stn number don't change, product code adds no value\n",
    "aqi.drop(['Quality Min','Product code','Bureau of Meteorology station number', 'Quality', 'Quality Min', 'Quality Max', 'Period over which rainfall was measured (days)', 'Days of accumulation of minimum temperature', 'Days of accumulation of maximum temperature'], axis=1, inplace=True)"
   ]
  },
  {
   "cell_type": "code",
   "execution_count": 188,
   "metadata": {},
   "outputs": [],
   "source": [
    "aqi.rename(index=str, columns={\"Rainfall amount (millimetres)\": \"precip\", \n",
    "                               \"Minimum temperature (Degree C)\": \"temp_min\",\n",
    "                               \"Maximum temperature (Degree C)\": \"temp_max\",\n",
    "                               \"Randwick_AQI\": \"aqi\",\n",
    "                               \"Date\": \"date\"\n",
    "                              }, inplace=True)"
   ]
  },
  {
   "cell_type": "markdown",
   "metadata": {},
   "source": [
    "### Utility functions for dates and seasons"
   ]
  },
  {
   "cell_type": "code",
   "execution_count": 189,
   "metadata": {},
   "outputs": [
    {
     "name": "stdout",
     "output_type": "stream",
     "text": [
      "I'm like totally going Paleo so I'm ready for summer\n"
     ]
    }
   ],
   "source": [
    "import dateutil.parser as dparser\n",
    "\n",
    "# utility functions for frigging around with dates and seasons\n",
    "def getDateFromDateText(dateText):\n",
    "    return dparser.parse(dateText,dayfirst=True)\n",
    "\n",
    "def getSeasonFromDate(date):\n",
    "    seasons = {12:'summmer', 1:'summer', 2:'summer', 3: 'autumn', 4: 'autumn', 5: 'autumn', 6: 'winter', 7: 'winter', 8: 'winter', 9: 'spring', 10: 'spring', 11: 'spring'}\n",
    "    return seasons[date.month]\n",
    "\n",
    "def getSeasonFromDateText(dateText):\n",
    "    return getSeasonFromDate(getDateFromDateText(dateText))\n",
    "\n",
    "print('I\\'m like totally going Paleo so I\\'m ready for {}'.format(getSeasonFromDateText('4/02/2016')))"
   ]
  },
  {
   "cell_type": "markdown",
   "metadata": {},
   "source": [
    "### Use the season function and get_dummies to create an indicator field"
   ]
  },
  {
   "cell_type": "code",
   "execution_count": 190,
   "metadata": {},
   "outputs": [],
   "source": [
    "# apply the season function to the df and append the resultant series to the df as a new field\n",
    "seasons = aqi['date'].apply(getSeasonFromDateText)\n",
    "seasons_indicator = pd.get_dummies(seasons, columns=['Season'])\n",
    "aqi = pd.concat([aqi, seasons_indicator], axis=1)"
   ]
  },
  {
   "cell_type": "markdown",
   "metadata": {},
   "source": [
    "###  create a categorical variable from the AQI score"
   ]
  },
  {
   "cell_type": "code",
   "execution_count": 191,
   "metadata": {},
   "outputs": [],
   "source": [
    "def getAQISeverityFromAQI(_aqi):\n",
    "    if _aqi < 50:return 'vgood';\n",
    "    elif _aqi < 100:return 'good';\n",
    "    elif _aqi < 150: return 'poor';\n",
    "    elif _aqi < 200: return 'danger';\n",
    "    else: return 'extreme';\n",
    "\n",
    "aqi['aqi_cat'] = aqi['aqi'].apply(getAQISeverityFromAQI)"
   ]
  },
  {
   "cell_type": "code",
   "execution_count": 192,
   "metadata": {},
   "outputs": [
    {
     "name": "stdout",
     "output_type": "stream",
     "text": [
      "number of samples: 173\n"
     ]
    },
    {
     "data": {
      "text/html": [
       "<div>\n",
       "<style>\n",
       "    .dataframe thead tr:only-child th {\n",
       "        text-align: right;\n",
       "    }\n",
       "\n",
       "    .dataframe thead th {\n",
       "        text-align: left;\n",
       "    }\n",
       "\n",
       "    .dataframe tbody tr th {\n",
       "        vertical-align: top;\n",
       "    }\n",
       "</style>\n",
       "<table border=\"1\" class=\"dataframe\">\n",
       "  <thead>\n",
       "    <tr style=\"text-align: right;\">\n",
       "      <th></th>\n",
       "      <th>date</th>\n",
       "      <th>precip</th>\n",
       "      <th>temp_min</th>\n",
       "      <th>temp_max</th>\n",
       "      <th>aqi</th>\n",
       "      <th>autumn</th>\n",
       "      <th>spring</th>\n",
       "      <th>summer</th>\n",
       "      <th>summmer</th>\n",
       "      <th>winter</th>\n",
       "      <th>aqi_cat</th>\n",
       "    </tr>\n",
       "  </thead>\n",
       "  <tbody>\n",
       "    <tr>\n",
       "      <th>4</th>\n",
       "      <td>2/08/2016</td>\n",
       "      <td>1.0</td>\n",
       "      <td>18.6</td>\n",
       "      <td>26.5</td>\n",
       "      <td>43.0</td>\n",
       "      <td>0</td>\n",
       "      <td>0</td>\n",
       "      <td>0</td>\n",
       "      <td>0</td>\n",
       "      <td>1</td>\n",
       "      <td>vgood</td>\n",
       "    </tr>\n",
       "    <tr>\n",
       "      <th>5</th>\n",
       "      <td>3/08/2016</td>\n",
       "      <td>16.0</td>\n",
       "      <td>18.6</td>\n",
       "      <td>26.5</td>\n",
       "      <td>41.0</td>\n",
       "      <td>0</td>\n",
       "      <td>0</td>\n",
       "      <td>0</td>\n",
       "      <td>0</td>\n",
       "      <td>1</td>\n",
       "      <td>vgood</td>\n",
       "    </tr>\n",
       "    <tr>\n",
       "      <th>6</th>\n",
       "      <td>4/08/2016</td>\n",
       "      <td>42.0</td>\n",
       "      <td>18.6</td>\n",
       "      <td>26.5</td>\n",
       "      <td>43.0</td>\n",
       "      <td>0</td>\n",
       "      <td>0</td>\n",
       "      <td>0</td>\n",
       "      <td>0</td>\n",
       "      <td>1</td>\n",
       "      <td>vgood</td>\n",
       "    </tr>\n",
       "    <tr>\n",
       "      <th>7</th>\n",
       "      <td>5/08/2016</td>\n",
       "      <td>7.0</td>\n",
       "      <td>18.6</td>\n",
       "      <td>26.5</td>\n",
       "      <td>42.0</td>\n",
       "      <td>0</td>\n",
       "      <td>0</td>\n",
       "      <td>0</td>\n",
       "      <td>0</td>\n",
       "      <td>1</td>\n",
       "      <td>vgood</td>\n",
       "    </tr>\n",
       "    <tr>\n",
       "      <th>8</th>\n",
       "      <td>6/08/2016</td>\n",
       "      <td>3.6</td>\n",
       "      <td>18.6</td>\n",
       "      <td>26.5</td>\n",
       "      <td>34.0</td>\n",
       "      <td>0</td>\n",
       "      <td>0</td>\n",
       "      <td>0</td>\n",
       "      <td>0</td>\n",
       "      <td>1</td>\n",
       "      <td>vgood</td>\n",
       "    </tr>\n",
       "  </tbody>\n",
       "</table>\n",
       "</div>"
      ],
      "text/plain": [
       "        date  precip  temp_min  temp_max   aqi  autumn  spring  summer  \\\n",
       "4  2/08/2016     1.0      18.6      26.5  43.0       0       0       0   \n",
       "5  3/08/2016    16.0      18.6      26.5  41.0       0       0       0   \n",
       "6  4/08/2016    42.0      18.6      26.5  43.0       0       0       0   \n",
       "7  5/08/2016     7.0      18.6      26.5  42.0       0       0       0   \n",
       "8  6/08/2016     3.6      18.6      26.5  34.0       0       0       0   \n",
       "\n",
       "   summmer  winter aqi_cat  \n",
       "4        0       1   vgood  \n",
       "5        0       1   vgood  \n",
       "6        0       1   vgood  \n",
       "7        0       1   vgood  \n",
       "8        0       1   vgood  "
      ]
     },
     "execution_count": 192,
     "metadata": {},
     "output_type": "execute_result"
    }
   ],
   "source": [
    "print('number of samples: {}'.format(len(aqi)))\n",
    "aqi.head()"
   ]
  },
  {
   "cell_type": "markdown",
   "metadata": {},
   "source": [
    "### Model"
   ]
  },
  {
   "cell_type": "code",
   "execution_count": 193,
   "metadata": {},
   "outputs": [],
   "source": [
    "# from sklearn import svm\n",
    "from sklearn.ensemble import RandomForestClassifier\n",
    "from sklearn.model_selection import train_test_split"
   ]
  },
  {
   "cell_type": "code",
   "execution_count": 194,
   "metadata": {
    "collapsed": true
   },
   "outputs": [],
   "source": [
    "from pprint import pprint\n",
    "    \n",
    "def trainAndTestRandForrest(X, y, predictCol):\n",
    "    X_train, X_test, y_train, y_test = train_test_split(X, y, test_size=0.25, random_state=69)\n",
    "\n",
    "    # get a model\n",
    "    clf = RandomForestClassifier(n_jobs=2)\n",
    "#     clf = svm.SVC()\n",
    "    \n",
    "    # train the model\n",
    "    clf.fit(X_train, y_train)\n",
    "    \n",
    "    # run test set forward through the model and print out some info\n",
    "    predictions = clf.predict(X_test)\n",
    "    getError(predictions, y_test, predictCol)\n",
    "    \n",
    "    # random forest is cool because it tells you what was important\n",
    "    importance_list = list(zip(X_train, clf.feature_importances_))\n",
    "    sorted_by_importance = sorted(importance_list, key=lambda tup: tup[1], reverse=True)\n",
    "    pprint(sorted_by_importance) \n",
    "    \n",
    "def getError(predictions, y_test, predictCol):\n",
    "    totalError = 0.0\n",
    "    totalCorrect = 0\n",
    "    for prediction, y in zip(predictions, y_test):\n",
    "        print('prediction: {}, actual: {}'.format(prediction, y))\n",
    "        if prediction ==y:\n",
    "            totalCorrect += 1\n",
    "\n",
    "    print('accuracy: {}%', 100 * totalCorrect / len(y_test))"
   ]
  },
  {
   "cell_type": "markdown",
   "metadata": {},
   "source": [
    "###  Train and test the model"
   ]
  },
  {
   "cell_type": "code",
   "execution_count": 195,
   "metadata": {},
   "outputs": [
    {
     "name": "stdout",
     "output_type": "stream",
     "text": [
      "prediction: vgood, actual: vgood\n",
      "prediction: vgood, actual: good\n",
      "prediction: good, actual: vgood\n",
      "prediction: vgood, actual: good\n",
      "prediction: vgood, actual: vgood\n",
      "prediction: vgood, actual: good\n",
      "prediction: vgood, actual: vgood\n",
      "prediction: vgood, actual: vgood\n",
      "prediction: good, actual: vgood\n",
      "prediction: vgood, actual: vgood\n",
      "prediction: vgood, actual: vgood\n",
      "prediction: vgood, actual: good\n",
      "prediction: vgood, actual: vgood\n",
      "prediction: vgood, actual: good\n",
      "prediction: vgood, actual: vgood\n",
      "prediction: vgood, actual: good\n",
      "prediction: vgood, actual: vgood\n",
      "prediction: good, actual: vgood\n",
      "prediction: vgood, actual: vgood\n",
      "prediction: vgood, actual: good\n",
      "prediction: vgood, actual: good\n",
      "prediction: vgood, actual: good\n",
      "prediction: good, actual: vgood\n",
      "prediction: vgood, actual: vgood\n",
      "prediction: vgood, actual: vgood\n",
      "prediction: vgood, actual: vgood\n",
      "prediction: vgood, actual: vgood\n",
      "prediction: vgood, actual: vgood\n",
      "prediction: vgood, actual: vgood\n",
      "prediction: vgood, actual: vgood\n",
      "prediction: vgood, actual: vgood\n",
      "prediction: vgood, actual: vgood\n",
      "prediction: vgood, actual: vgood\n",
      "prediction: vgood, actual: vgood\n",
      "prediction: vgood, actual: vgood\n",
      "prediction: vgood, actual: vgood\n",
      "prediction: vgood, actual: good\n",
      "prediction: vgood, actual: vgood\n",
      "prediction: vgood, actual: vgood\n",
      "prediction: vgood, actual: vgood\n",
      "prediction: vgood, actual: vgood\n",
      "prediction: vgood, actual: vgood\n",
      "prediction: vgood, actual: vgood\n",
      "prediction: good, actual: vgood\n",
      "accuracy: {}% 65.9090909090909\n",
      "[('precip', 0.73510902971693415),\n",
      " ('summer', 0.14328811928833274),\n",
      " ('winter', 0.051048488040477714),\n",
      " ('spring', 0.028272780479740058),\n",
      " ('autumn', 0.0250927566330321),\n",
      " ('temp_max', 0.015126127581655546),\n",
      " ('temp_min', 0.0020626982598277209)]\n"
     ]
    }
   ],
   "source": [
    "X = aqi[['precip', 'temp_min', 'temp_max', 'autumn', 'spring','summer', 'winter']]\n",
    "y = aqi['aqi_cat']\n",
    "trainAndTestRandForrest(X, y, 'aqi_cat')"
   ]
  },
  {
   "cell_type": "code",
   "execution_count": null,
   "metadata": {
    "collapsed": true
   },
   "outputs": [],
   "source": []
  }
 ],
 "metadata": {
  "kernelspec": {
   "display_name": "Python 3",
   "language": "python",
   "name": "python3"
  },
  "language_info": {
   "codemirror_mode": {
    "name": "ipython",
    "version": 3
   },
   "file_extension": ".py",
   "mimetype": "text/x-python",
   "name": "python",
   "nbconvert_exporter": "python",
   "pygments_lexer": "ipython3",
   "version": "3.5.3"
  }
 },
 "nbformat": 4,
 "nbformat_minor": 2
}
